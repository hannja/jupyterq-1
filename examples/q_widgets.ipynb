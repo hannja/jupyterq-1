{
 "cells": [
  {
   "cell_type": "markdown",
   "metadata": {},
   "source": [
    "### Jupyter Widgets\n",
    "\n",
    "To use widgets install the ipywidgets package\n",
    "\n",
    "With conda:\n",
    "```bash\n",
    "conda install -c conda-forge ipywidgets\n",
    "```\n",
    "With pip:\n",
    "```bash\n",
    "pip install ipywidgets\n",
    "jupyter nbextension enable --py widgetsnbextension\n",
    "```"
   ]
  },
  {
   "cell_type": "code",
   "execution_count": 1,
   "metadata": {
    "collapsed": true
   },
   "outputs": [],
   "source": [
    "/ some setup to display widgets inline\n",
    "/ display function to use in python code\n",
    "p)from kxpy.kx_backend_inline import display\n",
    "/ same function to use in q, ignore the return\n",
    "display:{x y;}.p.import[`kxpy.kx_backend_inline;`:display]\n",
    "/ create a list in python from a q tuple\n",
    "pylist:.p.import[`builtins;`:list;>]"
   ]
  },
  {
   "cell_type": "code",
   "execution_count": 2,
   "metadata": {
    "collapsed": true
   },
   "outputs": [],
   "source": [
    "p)from ipywidgets import interact, interact_manual,interactive\n",
    "p)def foo(x):\n",
    " return \"Value: \"+str(x)"
   ]
  },
  {
   "cell_type": "code",
   "execution_count": 3,
   "metadata": {},
   "outputs": [
    {
     "data": {
      "application/vnd.jupyter.widget-view+json": {
       "model_id": "e6aa561460974e138b18ee448d5d0f85",
       "version_major": 2,
       "version_minor": 0
      },
      "text/html": [
       "<p>Failed to display Jupyter Widget of type <code>interactive</code>.</p>\n",
       "<p>\n",
       "  If you're reading this message in the Jupyter Notebook or JupyterLab Notebook, it may mean\n",
       "  that the widgets JavaScript is still loading. If this message persists, it\n",
       "  likely means that the widgets JavaScript library is either not installed or\n",
       "  not enabled. See the <a href=\"https://ipywidgets.readthedocs.io/en/stable/user_install.html\">Jupyter\n",
       "  Widgets Documentation</a> for setup instructions.\n",
       "</p>\n",
       "<p>\n",
       "  If you're reading this message in another frontend (for example, a static\n",
       "  rendering on GitHub or <a href=\"https://nbviewer.jupyter.org/\">NBViewer</a>),\n",
       "  it may mean that your frontend doesn't currently support widgets.\n",
       "</p>\n"
      ],
      "text/plain": [
       "interactive(children=(Dropdown(description='x', options={'key1': 1, 'key2': 2, 'key3': 'a string value'}, value=1), Button(description='Run Interact', style=ButtonStyle()), Output()), _dom_classes=('widget-interact',))"
      ]
     },
     "metadata": {},
     "output_type": "display_data"
    }
   ],
   "source": [
    "p)a=interact_manual(foo,x={'key1':1,'key2':2, 'key3':'a string value'})\n"
   ]
  },
  {
   "cell_type": "code",
   "execution_count": 4,
   "metadata": {},
   "outputs": [
    {
     "data": {
      "application/vnd.jupyter.widget-view+json": {
       "model_id": "0ceb948f2ae14249b45c150cf192a3e5",
       "version_major": 2,
       "version_minor": 0
      },
      "text/html": [
       "<p>Failed to display Jupyter Widget of type <code>HBox</code>.</p>\n",
       "<p>\n",
       "  If you're reading this message in the Jupyter Notebook or JupyterLab Notebook, it may mean\n",
       "  that the widgets JavaScript is still loading. If this message persists, it\n",
       "  likely means that the widgets JavaScript library is either not installed or\n",
       "  not enabled. See the <a href=\"https://ipywidgets.readthedocs.io/en/stable/user_install.html\">Jupyter\n",
       "  Widgets Documentation</a> for setup instructions.\n",
       "</p>\n",
       "<p>\n",
       "  If you're reading this message in another frontend (for example, a static\n",
       "  rendering on GitHub or <a href=\"https://nbviewer.jupyter.org/\">NBViewer</a>),\n",
       "  it may mean that your frontend doesn't currently support widgets.\n",
       "</p>\n"
      ],
      "text/plain": [
       "HBox(children=(IntSlider(value=0), IntSlider(value=0), Text(value='')))"
      ]
     },
     "metadata": {},
     "output_type": "display_data"
    },
    {
     "data": {
      "application/vnd.jupyter.widget-view+json": {
       "model_id": "e570a4dd0a6444bd9e8572eabd28f2be",
       "version_major": 2,
       "version_minor": 0
      },
      "text/html": [
       "<p>Failed to display Jupyter Widget of type <code>Output</code>.</p>\n",
       "<p>\n",
       "  If you're reading this message in the Jupyter Notebook or JupyterLab Notebook, it may mean\n",
       "  that the widgets JavaScript is still loading. If this message persists, it\n",
       "  likely means that the widgets JavaScript library is either not installed or\n",
       "  not enabled. See the <a href=\"https://ipywidgets.readthedocs.io/en/stable/user_install.html\">Jupyter\n",
       "  Widgets Documentation</a> for setup instructions.\n",
       "</p>\n",
       "<p>\n",
       "  If you're reading this message in another frontend (for example, a static\n",
       "  rendering on GitHub or <a href=\"https://nbviewer.jupyter.org/\">NBViewer</a>),\n",
       "  it may mean that your frontend doesn't currently support widgets.\n",
       "</p>\n"
      ],
      "text/plain": [
       "Output()"
      ]
     },
     "metadata": {},
     "output_type": "display_data"
    }
   ],
   "source": [
    "p)import ipywidgets as widgets\n",
    "p)a = widgets.IntSlider()\n",
    "p)b = widgets.IntSlider()\n",
    "p)c = widgets.Text()\n",
    "p)ui = widgets.HBox([a, b,c ])\n",
    "p)def f(a, b, c):\n",
    "    print((a, b, c))\n",
    "\n",
    "p)out = widgets.interactive_output(f, {'a': a, 'b': b, 'c': c})\n",
    "p)display(ui, out)\n"
   ]
  },
  {
   "cell_type": "markdown",
   "metadata": {},
   "source": [
    "We can do the same in q code as well"
   ]
  },
  {
   "cell_type": "code",
   "execution_count": 5,
   "metadata": {
    "collapsed": true
   },
   "outputs": [],
   "source": [
    "interact:.p.import[`ipywidgets;`:interact]"
   ]
  },
  {
   "cell_type": "code",
   "execution_count": 6,
   "metadata": {},
   "outputs": [
    {
     "data": {
      "application/vnd.jupyter.widget-view+json": {
       "model_id": "7a5ce72d9cb74e0e83e5ec8752afd820",
       "version_major": 2,
       "version_minor": 0
      },
      "text/html": [
       "<p>Failed to display Jupyter Widget of type <code>interactive</code>.</p>\n",
       "<p>\n",
       "  If you're reading this message in the Jupyter Notebook or JupyterLab Notebook, it may mean\n",
       "  that the widgets JavaScript is still loading. If this message persists, it\n",
       "  likely means that the widgets JavaScript library is either not installed or\n",
       "  not enabled. See the <a href=\"https://ipywidgets.readthedocs.io/en/stable/user_install.html\">Jupyter\n",
       "  Widgets Documentation</a> for setup instructions.\n",
       "</p>\n",
       "<p>\n",
       "  If you're reading this message in another frontend (for example, a static\n",
       "  rendering on GitHub or <a href=\"https://nbviewer.jupyter.org/\">NBViewer</a>),\n",
       "  it may mean that your frontend doesn't currently support widgets.\n",
       "</p>\n"
      ],
      "text/plain": [
       "interactive(children=(Dropdown(description='x', options={'key1': 1, 'key2': 2, 'key3': 'a string value'}, value=1), Output()), _dom_classes=('widget-interact',))"
      ]
     },
     "metadata": {},
     "output_type": "display_data"
    }
   ],
   "source": [
    "interact[.p.get`foo;`x pykw `key1`key2`key3!(1;2;\"a string value\")];\n"
   ]
  },
  {
   "cell_type": "markdown",
   "metadata": {},
   "source": [
    "### Interactive Plots"
   ]
  },
  {
   "cell_type": "markdown",
   "metadata": {},
   "source": [
    "To use this widget, install the bqplot extension\n",
    "\n",
    "With conda:\n",
    "```bash\n",
    "conda install -c conda-forge bqplot\n",
    "```\n",
    "With pip:\n",
    "```bash\n",
    "pip install bqplot\n",
    "jupyter nbextension enable --py --sys-prefix bqplot\n",
    "```"
   ]
  },
  {
   "cell_type": "code",
   "execution_count": 7,
   "metadata": {
    "scrolled": true
   },
   "outputs": [
    {
     "data": {
      "application/vnd.jupyter.widget-view+json": {
       "model_id": "d3faa90486ef4df3b9e329345c7e1ecd",
       "version_major": 2,
       "version_minor": 0
      },
      "text/html": [
       "<p>Failed to display Jupyter Widget of type <code>VBox</code>.</p>\n",
       "<p>\n",
       "  If you're reading this message in the Jupyter Notebook or JupyterLab Notebook, it may mean\n",
       "  that the widgets JavaScript is still loading. If this message persists, it\n",
       "  likely means that the widgets JavaScript library is either not installed or\n",
       "  not enabled. See the <a href=\"https://ipywidgets.readthedocs.io/en/stable/user_install.html\">Jupyter\n",
       "  Widgets Documentation</a> for setup instructions.\n",
       "</p>\n",
       "<p>\n",
       "  If you're reading this message in another frontend (for example, a static\n",
       "  rendering on GitHub or <a href=\"https://nbviewer.jupyter.org/\">NBViewer</a>),\n",
       "  it may mean that your frontend doesn't currently support widgets.\n",
       "</p>\n"
      ],
      "text/plain": [
       "VBox(children=(Figure(axes=[ColorAxis(scale=ColorScale()), Axis(scale=LinearScale()), Axis(orientation='vertical', scale=LinearScale())], fig_margin={'top': 60, 'bottom': 60, 'left': 60, 'right': 60}, layout=Layout(min_width='125px'), marks=[Scatter(color=array([ 0.84346885, -1.1243625 ,  0.52518876,  0.17839123, -0.66183238,\n",
       "        1.50380015, -0.8079554 , -1.34552656, -0.62927787,  1.51881646,\n",
       "        1.17112059,  0.37610584, -0.30865733, -1.17536304,  0.83111614,\n",
       "       -0.42994051, -0.75443733,  0.86796027, -0.4465827 , -1.07443177,\n",
       "        0.59547915, -1.66215027,  0.47976153,  0.37591324,  0.30855756,\n",
       "       -1.54987852,  0.46854716,  0.85850393, -0.68668632,  0.05701259,\n",
       "        1.04717425,  1.39079833,  0.03930302,  0.38170132, -0.29208322,\n",
       "        0.47327227,  0.24711411,  1.37740814, -0.41981127, -0.21066904,\n",
       "       -0.78673016, -0.08881639,  1.09874475,  0.44282302, -1.03840478,\n",
       "        1.31488261, -1.29541775,  0.82410642,  0.73109241,  1.74109864,\n",
       "       -0.24987262,  0.26778584, -0.28589148, -0.66771913, -0.04942597,\n",
       "       -0.34368923,  0.29546796,  0.43576349,  1.71593842,  1.63739505,\n",
       "       -1.34785576,  0.80210827,  1.30169533,  0.16171968,  1.42885109,\n",
       "       -0.48618246,  0.08577972, -0.52884383,  0.62413307,  0.06060045,\n",
       "       -0.57293067,  0.92865623,  1.01241388, -0.57348557,  0.38575253,\n",
       "        0.32413844, -0.11543689, -0.9445874 , -0.11976262, -0.58684103,\n",
       "        0.3116892 , -0.35395774,  0.56621551, -0.12803132, -0.53766978,\n",
       "        0.63893544, -1.20878802, -0.08218041,  0.70457398, -0.77654237,\n",
       "        0.17903414,  0.89864975, -0.87614367,  1.68179671,  0.74478706,\n",
       "        0.01047205, -0.15357704,  1.0981261 , -1.27111287, -0.35923991]), colors=['steelblue'], interactions={'hover': 'tooltip'}, scales={'color': ColorScale(), 'x': LinearScale(), 'y': LinearScale()}, scales_metadata={'x': {'orientation': 'horizontal', 'dimension': 'x'}, 'y': {'orientation': 'vertical', 'dimension': 'y'}, 'color': {'dimension': 'color'}, 'size': {'dimension': 'size'}, 'opacity': {'dimension': 'opacity'}, 'rotation': {'dimension': 'rotation'}, 'skew': {'dimension': 'skew'}}, tooltip_style={'opacity': 0.9}, x=array([-0.13338151,  0.63043393,  0.11888033,  0.80486527, -0.53268915,\n",
       "        0.24899552,  0.97097532,  0.1148075 ,  0.34994228,  0.53994653,\n",
       "        0.52298124, -0.06037487, -0.33425164, -1.52315184,  0.47081106,\n",
       "        0.93945535, -0.48171663,  0.76446696,  0.2680619 , -0.32216757,\n",
       "        0.49465947,  0.40334609,  0.08354275,  1.30589592, -0.32886363,\n",
       "       -2.23407605, -0.8083953 , -0.12508371,  0.15552495,  0.50673518,\n",
       "        1.59907506,  0.55170379, -1.92815149, -0.58998738,  0.17951658,\n",
       "       -0.24730349, -2.26245643,  0.31250562, -1.2464006 ,  0.32270667,\n",
       "        1.32657361, -0.35461604, -0.68149789,  0.40247115,  0.47242311,\n",
       "        0.36361056, -0.19948969,  0.74553785, -1.24498783,  0.61219534,\n",
       "       -0.57219986,  0.49979655, -0.64581381,  2.11570881,  0.03789695,\n",
       "        1.17096212, -0.92966929, -0.67135856,  0.50846988, -0.1343544 ,\n",
       "        0.30822277, -0.31724552,  1.73790038, -0.76353013, -0.19072538,\n",
       "        1.36079732, -0.90568148,  0.25715193,  1.78235055,  0.8193139 ,\n",
       "        0.65489966,  0.26537172, -0.40912736,  0.31588335,  0.77368328,\n",
       "        0.23859601,  1.52769532,  0.11491154, -1.87446411,  0.5494585 ,\n",
       "        0.42491903,  0.11912625,  0.78449074, -2.60322496,  0.4099438 ,\n",
       "       -0.22520803, -1.31874258,  0.54233137,  1.50910397, -1.38299926,\n",
       "       -0.07856713,  1.72434129, -1.31558808,  0.80215014,  0.72594368,\n",
       "       -1.33224567, -0.99007597, -0.44012401, -0.01434414, -0.02549373]), y=array([-0.92451974, -0.16539639,  1.14626215, -0.01937935,  0.16775154,\n",
       "        0.53720846,  1.02589739,  1.71493881, -0.00669714,  0.65913177,\n",
       "       -2.11977665, -0.37738004, -0.0912217 , -0.62041297, -0.66656098,\n",
       "        1.74663694,  0.24406692, -1.49102609, -0.23862857, -0.4204489 ,\n",
       "        1.39662384,  0.17699966,  1.44362675,  0.30117009,  1.33121945,\n",
       "       -0.35877791, -0.33700954,  1.21955041,  1.02026252,  0.85034186,\n",
       "        2.15668181,  0.74529178, -1.11357794, -0.49479785,  0.21961533,\n",
       "        1.17300251, -0.53236492,  1.28443852,  0.39442447,  0.19067872,\n",
       "       -0.48146724,  1.31309509,  0.39827458,  1.07794138,  0.26723381,\n",
       "       -0.38337864,  0.43857095,  1.77705712, -0.37720267,  0.74485411,\n",
       "        0.77924334,  1.86525485,  0.45956031, -1.52156723, -0.12883478,\n",
       "        1.35541387, -0.65882477,  0.28868107, -1.0745222 , -1.34116743,\n",
       "       -0.93709349,  0.39612475,  0.18969828, -0.16888325, -2.29347098,\n",
       "       -1.01054175,  0.96726934,  0.32292449,  1.02276754, -0.51289365,\n",
       "       -0.41424863, -1.52324602,  0.71232496, -0.10703327, -0.43992189,\n",
       "       -1.14276372, -0.29794456,  0.18469066,  0.40854731,  1.16068499,\n",
       "        0.05984958,  0.02854717, -0.42858506,  0.71884963, -0.31620313,\n",
       "       -0.18507142,  0.10127744, -1.99573607, -0.57938912,  0.41023009,\n",
       "        0.09819409, -0.50601564, -0.48049234, -1.16143404, -1.06291072,\n",
       "        0.15163483, -1.59924886,  0.63434514, -2.17482431,  0.88248142]))], scale_x=LinearScale(allow_padding=False, max=1.0, min=0.0), scale_y=LinearScale(allow_padding=False, max=1.0, min=0.0), title='Scatter plot with colors'), Toolbar(figure=Figure(axes=[ColorAxis(scale=ColorScale()), Axis(scale=LinearScale()), Axis(orientation='vertical', scale=LinearScale())], fig_margin={'top': 60, 'bottom': 60, 'left': 60, 'right': 60}, layout=Layout(min_width='125px'), marks=[Scatter(color=array([ 0.84346885, -1.1243625 ,  0.52518876,  0.17839123, -0.66183238,\n",
       "        1.50380015, -0.8079554 , -1.34552656, -0.62927787,  1.51881646,\n",
       "        1.17112059,  0.37610584, -0.30865733, -1.17536304,  0.83111614,\n",
       "       -0.42994051, -0.75443733,  0.86796027, -0.4465827 , -1.07443177,\n",
       "        0.59547915, -1.66215027,  0.47976153,  0.37591324,  0.30855756,\n",
       "       -1.54987852,  0.46854716,  0.85850393, -0.68668632,  0.05701259,\n",
       "        1.04717425,  1.39079833,  0.03930302,  0.38170132, -0.29208322,\n",
       "        0.47327227,  0.24711411,  1.37740814, -0.41981127, -0.21066904,\n",
       "       -0.78673016, -0.08881639,  1.09874475,  0.44282302, -1.03840478,\n",
       "        1.31488261, -1.29541775,  0.82410642,  0.73109241,  1.74109864,\n",
       "       -0.24987262,  0.26778584, -0.28589148, -0.66771913, -0.04942597,\n",
       "       -0.34368923,  0.29546796,  0.43576349,  1.71593842,  1.63739505,\n",
       "       -1.34785576,  0.80210827,  1.30169533,  0.16171968,  1.42885109,\n",
       "       -0.48618246,  0.08577972, -0.52884383,  0.62413307,  0.06060045,\n",
       "       -0.57293067,  0.92865623,  1.01241388, -0.57348557,  0.38575253,\n",
       "        0.32413844, -0.11543689, -0.9445874 , -0.11976262, -0.58684103,\n",
       "        0.3116892 , -0.35395774,  0.56621551, -0.12803132, -0.53766978,\n",
       "        0.63893544, -1.20878802, -0.08218041,  0.70457398, -0.77654237,\n",
       "        0.17903414,  0.89864975, -0.87614367,  1.68179671,  0.74478706,\n",
       "        0.01047205, -0.15357704,  1.0981261 , -1.27111287, -0.35923991]), colors=['steelblue'], interactions={'hover': 'tooltip'}, scales={'color': ColorScale(), 'x': LinearScale(), 'y': LinearScale()}, scales_metadata={'x': {'orientation': 'horizontal', 'dimension': 'x'}, 'y': {'orientation': 'vertical', 'dimension': 'y'}, 'color': {'dimension': 'color'}, 'size': {'dimension': 'size'}, 'opacity': {'dimension': 'opacity'}, 'rotation': {'dimension': 'rotation'}, 'skew': {'dimension': 'skew'}}, tooltip_style={'opacity': 0.9}, x=array([-0.13338151,  0.63043393,  0.11888033,  0.80486527, -0.53268915,\n",
       "        0.24899552,  0.97097532,  0.1148075 ,  0.34994228,  0.53994653,\n",
       "        0.52298124, -0.06037487, -0.33425164, -1.52315184,  0.47081106,\n",
       "        0.93945535, -0.48171663,  0.76446696,  0.2680619 , -0.32216757,\n",
       "        0.49465947,  0.40334609,  0.08354275,  1.30589592, -0.32886363,\n",
       "       -2.23407605, -0.8083953 , -0.12508371,  0.15552495,  0.50673518,\n",
       "        1.59907506,  0.55170379, -1.92815149, -0.58998738,  0.17951658,\n",
       "       -0.24730349, -2.26245643,  0.31250562, -1.2464006 ,  0.32270667,\n",
       "        1.32657361, -0.35461604, -0.68149789,  0.40247115,  0.47242311,\n",
       "        0.36361056, -0.19948969,  0.74553785, -1.24498783,  0.61219534,\n",
       "       -0.57219986,  0.49979655, -0.64581381,  2.11570881,  0.03789695,\n",
       "        1.17096212, -0.92966929, -0.67135856,  0.50846988, -0.1343544 ,\n",
       "        0.30822277, -0.31724552,  1.73790038, -0.76353013, -0.19072538,\n",
       "        1.36079732, -0.90568148,  0.25715193,  1.78235055,  0.8193139 ,\n",
       "        0.65489966,  0.26537172, -0.40912736,  0.31588335,  0.77368328,\n",
       "        0.23859601,  1.52769532,  0.11491154, -1.87446411,  0.5494585 ,\n",
       "        0.42491903,  0.11912625,  0.78449074, -2.60322496,  0.4099438 ,\n",
       "       -0.22520803, -1.31874258,  0.54233137,  1.50910397, -1.38299926,\n",
       "       -0.07856713,  1.72434129, -1.31558808,  0.80215014,  0.72594368,\n",
       "       -1.33224567, -0.99007597, -0.44012401, -0.01434414, -0.02549373]), y=array([-0.92451974, -0.16539639,  1.14626215, -0.01937935,  0.16775154,\n",
       "        0.53720846,  1.02589739,  1.71493881, -0.00669714,  0.65913177,\n",
       "       -2.11977665, -0.37738004, -0.0912217 , -0.62041297, -0.66656098,\n",
       "        1.74663694,  0.24406692, -1.49102609, -0.23862857, -0.4204489 ,\n",
       "        1.39662384,  0.17699966,  1.44362675,  0.30117009,  1.33121945,\n",
       "       -0.35877791, -0.33700954,  1.21955041,  1.02026252,  0.85034186,\n",
       "        2.15668181,  0.74529178, -1.11357794, -0.49479785,  0.21961533,\n",
       "        1.17300251, -0.53236492,  1.28443852,  0.39442447,  0.19067872,\n",
       "       -0.48146724,  1.31309509,  0.39827458,  1.07794138,  0.26723381,\n",
       "       -0.38337864,  0.43857095,  1.77705712, -0.37720267,  0.74485411,\n",
       "        0.77924334,  1.86525485,  0.45956031, -1.52156723, -0.12883478,\n",
       "        1.35541387, -0.65882477,  0.28868107, -1.0745222 , -1.34116743,\n",
       "       -0.93709349,  0.39612475,  0.18969828, -0.16888325, -2.29347098,\n",
       "       -1.01054175,  0.96726934,  0.32292449,  1.02276754, -0.51289365,\n",
       "       -0.41424863, -1.52324602,  0.71232496, -0.10703327, -0.43992189,\n",
       "       -1.14276372, -0.29794456,  0.18469066,  0.40854731,  1.16068499,\n",
       "        0.05984958,  0.02854717, -0.42858506,  0.71884963, -0.31620313,\n",
       "       -0.18507142,  0.10127744, -1.99573607, -0.57938912,  0.41023009,\n",
       "        0.09819409, -0.50601564, -0.48049234, -1.16143404, -1.06291072,\n",
       "        0.15163483, -1.59924886,  0.63434514, -2.17482431,  0.88248142]))], scale_x=LinearScale(allow_padding=False, max=1.0, min=0.0), scale_y=LinearScale(allow_padding=False, max=1.0, min=0.0), title='Scatter plot with colors'))))"
      ]
     },
     "metadata": {},
     "output_type": "display_data"
    }
   ],
   "source": [
    "p)import numpy as np\n",
    "p)import bqplot.pyplot as plt\n",
    "\n",
    "p)size = 100\n",
    "\n",
    "p)plt.figure(title='Scatter plot with colors')\n",
    "p)plt.scatter(np.random.randn(size), np.random.randn(size), color=np.random.randn(size))\n",
    "p)plt.show()"
   ]
  },
  {
   "cell_type": "markdown",
   "metadata": {},
   "source": [
    "And equivalently in q"
   ]
  },
  {
   "cell_type": "code",
   "execution_count": 8,
   "metadata": {},
   "outputs": [
    {
     "data": {
      "application/vnd.jupyter.widget-view+json": {
       "model_id": "3b4244702185480f89411da72151d7b4",
       "version_major": 2,
       "version_minor": 0
      },
      "text/html": [
       "<p>Failed to display Jupyter Widget of type <code>VBox</code>.</p>\n",
       "<p>\n",
       "  If you're reading this message in the Jupyter Notebook or JupyterLab Notebook, it may mean\n",
       "  that the widgets JavaScript is still loading. If this message persists, it\n",
       "  likely means that the widgets JavaScript library is either not installed or\n",
       "  not enabled. See the <a href=\"https://ipywidgets.readthedocs.io/en/stable/user_install.html\">Jupyter\n",
       "  Widgets Documentation</a> for setup instructions.\n",
       "</p>\n",
       "<p>\n",
       "  If you're reading this message in another frontend (for example, a static\n",
       "  rendering on GitHub or <a href=\"https://nbviewer.jupyter.org/\">NBViewer</a>),\n",
       "  it may mean that your frontend doesn't currently support widgets.\n",
       "</p>\n"
      ],
      "text/plain": [
       "VBox(children=(Figure(axes=[ColorAxis(scale=ColorScale()), Axis(scale=LinearScale()), Axis(orientation='vertical', scale=LinearScale())], fig_margin={'top': 60, 'bottom': 60, 'left': 60, 'right': 60}, layout=Layout(min_width='125px'), marks=[Scatter(color=array([ 3.92752382,  5.1709112 ,  5.1597965 ,  4.06664193,  1.78083858,\n",
       "        3.01772254,  7.85033009,  5.34709613,  7.11171648,  4.11596977,\n",
       "        4.93183483,  5.78520283,  0.83888582,  1.95990724,  3.75637987,\n",
       "        6.13745176,  5.29480776,  6.91609853,  2.29661538,  6.91953079,\n",
       "        4.70788251,  6.34671623,  9.67239827,  2.30638483,  9.49975029,\n",
       "        4.39080995,  5.7590514 ,  5.91900433,  8.4815665 ,  3.89056023,\n",
       "        3.9154298 ,  0.81235459,  9.36750341,  2.78212167,  2.39234124,\n",
       "        1.5081331 ,  1.567317  ,  9.78500037,  7.04331423,  9.44167051,\n",
       "        7.83368603,  4.09956106,  6.10881725,  4.97649173,  4.08754474,\n",
       "        4.49731027,  0.13920761,  7.14877941,  1.94650918,  0.90590256,\n",
       "        6.2030144 ,  9.3263161 ,  2.7470663 ,  0.57525155,  2.56065772,\n",
       "        2.31010793,  0.87240168,  1.02443221,  8.67109649,  7.27852753,\n",
       "        1.62766211,  6.88475619,  8.17754705,  7.5201022 ,  1.08682416,\n",
       "        9.59896417,  0.36683407,  6.43098228,  6.70873773,  6.78908244,\n",
       "        4.12317013,  9.87784442,  3.86735304,  7.26780997,  4.04654594,\n",
       "        8.35506496,  6.42737016,  5.83026193,  1.4249353 ,  9.14988209,\n",
       "        9.0307508 ,  7.75029159,  3.8698181 ,  6.32411382,  4.32853456,\n",
       "        2.43083605,  3.91795272,  0.2451336 ,  1.6910433 ,  3.94108221,\n",
       "        7.26314165,  9.21643581,  1.80953583,  6.43463674,  2.90709309,\n",
       "        0.73478076,  3.15952587,  3.41048518,  8.61797196,  5.54886446]), colors=['steelblue'], interactions={'hover': 'tooltip'}, scales={'color': ColorScale(), 'x': LinearScale(), 'y': LinearScale()}, scales_metadata={'x': {'orientation': 'horizontal', 'dimension': 'x'}, 'y': {'orientation': 'vertical', 'dimension': 'y'}, 'color': {'dimension': 'color'}, 'size': {'dimension': 'size'}, 'opacity': {'dimension': 'opacity'}, 'rotation': {'dimension': 'rotation'}, 'skew': {'dimension': 'skew'}}, tooltip_style={'opacity': 0.9}, x=array([ 7.2494795 ,  8.11202571,  2.08661431,  9.907116  ,  5.79480134,\n",
       "        9.02971349,  2.01157809,  0.68323656,  5.98916746,  0.48817279,\n",
       "        9.00699075,  8.50590867,  8.19601396,  0.99826729,  8.18770713,\n",
       "        6.50696494,  0.34921963,  0.32838393,  9.67576308,  3.01404018,\n",
       "        6.91929162,  9.47155548,  3.40392955,  9.6145941 ,  2.6992081 ,\n",
       "        9.45696318,  5.12624333,  5.45972307,  8.64926226,  3.11436408,\n",
       "        8.13247773,  1.29193818,  1.47754665,  2.74226978,  5.63505329,\n",
       "        8.83822998,  2.43919376,  6.71812542,  8.63959144,  8.43980741,\n",
       "        5.42637068,  0.77573318,  6.37463677,  9.76124576,  5.39681639,\n",
       "        7.16285812,  3.88629552,  5.2229798 ,  8.72502672,  6.56873425,\n",
       "        9.62515637,  3.71497269,  1.74465909,  5.8972017 ,  9.55090119,\n",
       "        6.15851453,  7.02455007,  3.55038062,  3.61514336,  9.08953142,\n",
       "        2.06256881,  4.81820987,  2.06562453,  5.22917817,  3.33880598,\n",
       "        4.1462104 ,  9.7258133 ,  5.42272564,  6.11658175,  3.41499126,\n",
       "        9.51674588,  1.16947526,  8.15895736,  6.09153938,  9.8307944 ,\n",
       "        7.54312223,  3.81367948,  0.31126457,  4.19469118,  1.86286898,\n",
       "        7.95953092,  3.6672751 ,  5.16523408,  0.65416965,  5.9738301 ,\n",
       "        6.36971101,  2.18087347,  5.07574477,  4.17699445,  0.19207411,\n",
       "        8.76171409,  7.5758557 ,  6.03022324,  1.81136377,  2.32966218,\n",
       "        2.5004598 ,  0.73727199,  3.18664223,  1.87263444,  8.416288  ]), y=array([ 0.61650081,  2.85798974,  6.68472436,  9.13303285,  1.48535694,\n",
       "        4.85754663,  7.12360228,  3.8394609 ,  3.40721484,  0.54001023,\n",
       "        5.49793562,  1.95846712,  5.61526074,  0.70438114,  2.12400736,\n",
       "        7.77881992,  4.84472701,  6.82799904,  1.53226961,  5.3509228 ,\n",
       "        4.57328038,  0.08062521,  1.03934335,  1.04451174,  3.38009703,\n",
       "        4.8615462 ,  4.858929  ,  9.79728091,  5.82305885,  2.55686349,\n",
       "        4.2448773 ,  9.02578395,  4.47081783,  1.38707883,  9.40952318,\n",
       "        0.0283353 ,  8.89703436,  1.06992399,  4.22222357,  7.67486001,\n",
       "        8.85161194,  4.35867551,  0.77881994,  4.23376675,  6.22832137,\n",
       "        1.97212232,  8.07821057,  2.44371889,  5.51988635,  5.33951482,\n",
       "        9.38708369,  3.02780058,  4.44849244,  4.41449147,  7.26798672,\n",
       "        9.99608162,  7.43328514,  2.37128796,  5.67081044,  4.26917694,\n",
       "        7.70477359,  0.15940282,  3.5730386 ,  0.25473833,  6.88088953,\n",
       "        6.37755386,  0.38456367,  8.97235718,  7.93551251,  2.0372849 ,\n",
       "        7.75761741,  0.69383253,  4.10191412,  2.33754886,  7.1258453 ,\n",
       "        1.39225733,  2.70187617,  6.35718237,  7.77130334,  0.82268738,\n",
       "        5.13201826,  4.94782859,  8.66556537,  6.41497525,  9.0827112 ,\n",
       "        9.79609409,  3.07749067,  3.65227317,  9.59117693,  4.12186606,\n",
       "        6.33041021,  5.75269256,  0.09011743,  1.44805691,  7.70613204,\n",
       "        3.69611446,  1.17535499,  9.23438574,  4.01593556,  5.61903675]))], scale_x=LinearScale(allow_padding=False, max=1.0, min=0.0), scale_y=LinearScale(allow_padding=False, max=1.0, min=0.0), title='Scatter plot with colors'), Toolbar(figure=Figure(axes=[ColorAxis(scale=ColorScale()), Axis(scale=LinearScale()), Axis(orientation='vertical', scale=LinearScale())], fig_margin={'top': 60, 'bottom': 60, 'left': 60, 'right': 60}, layout=Layout(min_width='125px'), marks=[Scatter(color=array([ 3.92752382,  5.1709112 ,  5.1597965 ,  4.06664193,  1.78083858,\n",
       "        3.01772254,  7.85033009,  5.34709613,  7.11171648,  4.11596977,\n",
       "        4.93183483,  5.78520283,  0.83888582,  1.95990724,  3.75637987,\n",
       "        6.13745176,  5.29480776,  6.91609853,  2.29661538,  6.91953079,\n",
       "        4.70788251,  6.34671623,  9.67239827,  2.30638483,  9.49975029,\n",
       "        4.39080995,  5.7590514 ,  5.91900433,  8.4815665 ,  3.89056023,\n",
       "        3.9154298 ,  0.81235459,  9.36750341,  2.78212167,  2.39234124,\n",
       "        1.5081331 ,  1.567317  ,  9.78500037,  7.04331423,  9.44167051,\n",
       "        7.83368603,  4.09956106,  6.10881725,  4.97649173,  4.08754474,\n",
       "        4.49731027,  0.13920761,  7.14877941,  1.94650918,  0.90590256,\n",
       "        6.2030144 ,  9.3263161 ,  2.7470663 ,  0.57525155,  2.56065772,\n",
       "        2.31010793,  0.87240168,  1.02443221,  8.67109649,  7.27852753,\n",
       "        1.62766211,  6.88475619,  8.17754705,  7.5201022 ,  1.08682416,\n",
       "        9.59896417,  0.36683407,  6.43098228,  6.70873773,  6.78908244,\n",
       "        4.12317013,  9.87784442,  3.86735304,  7.26780997,  4.04654594,\n",
       "        8.35506496,  6.42737016,  5.83026193,  1.4249353 ,  9.14988209,\n",
       "        9.0307508 ,  7.75029159,  3.8698181 ,  6.32411382,  4.32853456,\n",
       "        2.43083605,  3.91795272,  0.2451336 ,  1.6910433 ,  3.94108221,\n",
       "        7.26314165,  9.21643581,  1.80953583,  6.43463674,  2.90709309,\n",
       "        0.73478076,  3.15952587,  3.41048518,  8.61797196,  5.54886446]), colors=['steelblue'], interactions={'hover': 'tooltip'}, scales={'color': ColorScale(), 'x': LinearScale(), 'y': LinearScale()}, scales_metadata={'x': {'orientation': 'horizontal', 'dimension': 'x'}, 'y': {'orientation': 'vertical', 'dimension': 'y'}, 'color': {'dimension': 'color'}, 'size': {'dimension': 'size'}, 'opacity': {'dimension': 'opacity'}, 'rotation': {'dimension': 'rotation'}, 'skew': {'dimension': 'skew'}}, tooltip_style={'opacity': 0.9}, x=array([ 7.2494795 ,  8.11202571,  2.08661431,  9.907116  ,  5.79480134,\n",
       "        9.02971349,  2.01157809,  0.68323656,  5.98916746,  0.48817279,\n",
       "        9.00699075,  8.50590867,  8.19601396,  0.99826729,  8.18770713,\n",
       "        6.50696494,  0.34921963,  0.32838393,  9.67576308,  3.01404018,\n",
       "        6.91929162,  9.47155548,  3.40392955,  9.6145941 ,  2.6992081 ,\n",
       "        9.45696318,  5.12624333,  5.45972307,  8.64926226,  3.11436408,\n",
       "        8.13247773,  1.29193818,  1.47754665,  2.74226978,  5.63505329,\n",
       "        8.83822998,  2.43919376,  6.71812542,  8.63959144,  8.43980741,\n",
       "        5.42637068,  0.77573318,  6.37463677,  9.76124576,  5.39681639,\n",
       "        7.16285812,  3.88629552,  5.2229798 ,  8.72502672,  6.56873425,\n",
       "        9.62515637,  3.71497269,  1.74465909,  5.8972017 ,  9.55090119,\n",
       "        6.15851453,  7.02455007,  3.55038062,  3.61514336,  9.08953142,\n",
       "        2.06256881,  4.81820987,  2.06562453,  5.22917817,  3.33880598,\n",
       "        4.1462104 ,  9.7258133 ,  5.42272564,  6.11658175,  3.41499126,\n",
       "        9.51674588,  1.16947526,  8.15895736,  6.09153938,  9.8307944 ,\n",
       "        7.54312223,  3.81367948,  0.31126457,  4.19469118,  1.86286898,\n",
       "        7.95953092,  3.6672751 ,  5.16523408,  0.65416965,  5.9738301 ,\n",
       "        6.36971101,  2.18087347,  5.07574477,  4.17699445,  0.19207411,\n",
       "        8.76171409,  7.5758557 ,  6.03022324,  1.81136377,  2.32966218,\n",
       "        2.5004598 ,  0.73727199,  3.18664223,  1.87263444,  8.416288  ]), y=array([ 0.61650081,  2.85798974,  6.68472436,  9.13303285,  1.48535694,\n",
       "        4.85754663,  7.12360228,  3.8394609 ,  3.40721484,  0.54001023,\n",
       "        5.49793562,  1.95846712,  5.61526074,  0.70438114,  2.12400736,\n",
       "        7.77881992,  4.84472701,  6.82799904,  1.53226961,  5.3509228 ,\n",
       "        4.57328038,  0.08062521,  1.03934335,  1.04451174,  3.38009703,\n",
       "        4.8615462 ,  4.858929  ,  9.79728091,  5.82305885,  2.55686349,\n",
       "        4.2448773 ,  9.02578395,  4.47081783,  1.38707883,  9.40952318,\n",
       "        0.0283353 ,  8.89703436,  1.06992399,  4.22222357,  7.67486001,\n",
       "        8.85161194,  4.35867551,  0.77881994,  4.23376675,  6.22832137,\n",
       "        1.97212232,  8.07821057,  2.44371889,  5.51988635,  5.33951482,\n",
       "        9.38708369,  3.02780058,  4.44849244,  4.41449147,  7.26798672,\n",
       "        9.99608162,  7.43328514,  2.37128796,  5.67081044,  4.26917694,\n",
       "        7.70477359,  0.15940282,  3.5730386 ,  0.25473833,  6.88088953,\n",
       "        6.37755386,  0.38456367,  8.97235718,  7.93551251,  2.0372849 ,\n",
       "        7.75761741,  0.69383253,  4.10191412,  2.33754886,  7.1258453 ,\n",
       "        1.39225733,  2.70187617,  6.35718237,  7.77130334,  0.82268738,\n",
       "        5.13201826,  4.94782859,  8.66556537,  6.41497525,  9.0827112 ,\n",
       "        9.79609409,  3.07749067,  3.65227317,  9.59117693,  4.12186606,\n",
       "        6.33041021,  5.75269256,  0.09011743,  1.44805691,  7.70613204,\n",
       "        3.69611446,  1.17535499,  9.23438574,  4.01593556,  5.61903675]))], scale_x=LinearScale(allow_padding=False, max=1.0, min=0.0), scale_y=LinearScale(allow_padding=False, max=1.0, min=0.0), title='Scatter plot with colors'))))"
      ]
     },
     "metadata": {},
     "output_type": "display_data"
    }
   ],
   "source": [
    "np:.p.import`numpy\n",
    "plt:.p.import`bqplot.pyplot\n",
    "size:100\n",
    "plt[`:figure][`title pykw \"Scatter plot with colors\"];\n",
    "plt[`:scatter][size?10f;size?10f;`color pykw size?10f];\n",
    "plt[`:show][];"
   ]
  },
  {
   "cell_type": "markdown",
   "metadata": {},
   "source": [
    "### 3D Plots"
   ]
  },
  {
   "cell_type": "markdown",
   "metadata": {},
   "source": [
    "To use this widget install the pythreejs package\n",
    "\n",
    "With conda:\n",
    "```bash\n",
    "conda install -c conda-forge pythreejs\n",
    "```\n",
    "With pip:\n",
    "```bash\n",
    "pip install pythreejs\n",
    "jupyter nbextension enable --py --sys-prefix pythreejs\n",
    "```"
   ]
  },
  {
   "cell_type": "code",
   "execution_count": 9,
   "metadata": {},
   "outputs": [
    {
     "data": {
      "application/vnd.jupyter.widget-view+json": {
       "model_id": "b2a3b54095c240698f7a5cf22bee6dbe",
       "version_major": 2,
       "version_minor": 0
      },
      "text/html": [
       "<p>Failed to display Jupyter Widget of type <code>Renderer</code>.</p>\n",
       "<p>\n",
       "  If you're reading this message in the Jupyter Notebook or JupyterLab Notebook, it may mean\n",
       "  that the widgets JavaScript is still loading. If this message persists, it\n",
       "  likely means that the widgets JavaScript library is either not installed or\n",
       "  not enabled. See the <a href=\"https://ipywidgets.readthedocs.io/en/stable/user_install.html\">Jupyter\n",
       "  Widgets Documentation</a> for setup instructions.\n",
       "</p>\n",
       "<p>\n",
       "  If you're reading this message in another frontend (for example, a static\n",
       "  rendering on GitHub or <a href=\"https://nbviewer.jupyter.org/\">NBViewer</a>),\n",
       "  it may mean that your frontend doesn't currently support widgets.\n",
       "</p>\n"
      ],
      "text/plain": [
       "Renderer(camera=PerspectiveCamera(children=[DirectionalLight(intensity=0.6, position=[3.0, 5.0, 1.0], scale=[1.0, 1.0, 1.0], up=[0.0, 1.0, 0.0])], position=[2.5, 2.5, 2.5], scale=[1.0, 1.0, 1.0], up=[0.0, 0.0, 1.0]), controls=[OrbitControls(controlling=PerspectiveCamera(children=[DirectionalLight(intensity=0.6, position=[3.0, 5.0, 1.0], scale=[1.0, 1.0, 1.0], up=[0.0, 1.0, 0.0])], position=[2.5, 2.5, 2.5], scale=[1.0, 1.0, 1.0], up=[0.0, 0.0, 1.0]), target=[0.0, 0.0, 0.0])], effect=None, scene=Scene(children=[Mesh(geometry=ParametricGeometry(func='\\n function f(origu,origv) {\\n    // scale u and v to the ranges I want: [0, 2*pi]\\n    var u = 2*Math.PI*origu;\\n    var v = 2*Math.PI*origv;\\n    \\n    var x = Math.sin(u);\\n    var y = Math.cos(v);\\n    var z = Math.cos(u+v);\\n    \\n    return new THREE.Vector3(x,y,z)\\n }\\n '), material=LambertMaterial(color='green', envMap=None, lightMap=None, map=None, side='FrontSide', specularMap=None), position=[0.0, 0.0, 0.0], scale=[1.0, 1.0, 1.0], up=[0.0, 1.0, 0.0]), Mesh(geometry=ParametricGeometry(func='\\n function f(origu,origv) {\\n    // scale u and v to the ranges I want: [0, 2*pi]\\n    var u = 2*Math.PI*origu;\\n    var v = 2*Math.PI*origv;\\n    \\n    var x = Math.sin(u);\\n    var y = Math.cos(v);\\n    var z = Math.cos(u+v);\\n    \\n    return new THREE.Vector3(x,y,z)\\n }\\n '), material=LambertMaterial(color='yellow', envMap=None, lightMap=None, map=None, side='BackSide', specularMap=None), position=[0.0, 0.0, 0.0], scale=[1.0, 1.0, 1.0], up=[0.0, 1.0, 0.0]), AmbientLight(color='#777777', position=[0.0, 0.0, 0.0], scale=[1.0, 1.0, 1.0], up=[0.0, 1.0, 0.0])], position=[0.0, 0.0, 0.0], scale=[1.0, 1.0, 1.0], up=[0.0, 1.0, 0.0]))"
      ]
     },
     "metadata": {},
     "output_type": "display_data"
    }
   ],
   "source": [
    "p)from pythreejs import *\n",
    "\n",
    "p)fun = \"\"\"\n",
    " function f(origu,origv) {\n",
    "    // scale u and v to the ranges I want: [0, 2*pi]\n",
    "    var u = 2*Math.PI*origu;\n",
    "    var v = 2*Math.PI*origv;\n",
    "    \n",
    "    var x = Math.sin(u);\n",
    "    var y = Math.cos(v);\n",
    "    var z = Math.cos(u+v);\n",
    "    \n",
    "    return new THREE.Vector3(x,y,z)\n",
    " }\n",
    " \"\"\"\n",
    "\n",
    "p)surf_g = ParametricGeometry(func=fun);\n",
    "p)surf = Mesh(geometry=surf_g, material=LambertMaterial(color='green', side='FrontSide'))\n",
    "p)surf2 = Mesh(geometry=surf_g, material=LambertMaterial(color='yellow', side='BackSide'))\n",
    "p)scene = Scene(children=[surf, surf2, AmbientLight(color='#777777')])\n",
    "p)c = PerspectiveCamera(position=[2.5, 2.5, 2.5], up=[0, 0, 1],\n",
    "                      children=[DirectionalLight(color='white',\n",
    "                                                 position=[3, 5, 1],\n",
    "                                                 intensity=0.6)])\n",
    "\n",
    "p)display(Renderer(camera=c, scene=scene, controls=[OrbitControls(controlling=c)]))\n"
   ]
  },
  {
   "cell_type": "code",
   "execution_count": 10,
   "metadata": {},
   "outputs": [
    {
     "data": {
      "application/vnd.jupyter.widget-view+json": {
       "model_id": "2e61213d49e04e78959fb8fae043170e",
       "version_major": 2,
       "version_minor": 0
      },
      "text/html": [
       "<p>Failed to display Jupyter Widget of type <code>Renderer</code>.</p>\n",
       "<p>\n",
       "  If you're reading this message in the Jupyter Notebook or JupyterLab Notebook, it may mean\n",
       "  that the widgets JavaScript is still loading. If this message persists, it\n",
       "  likely means that the widgets JavaScript library is either not installed or\n",
       "  not enabled. See the <a href=\"https://ipywidgets.readthedocs.io/en/stable/user_install.html\">Jupyter\n",
       "  Widgets Documentation</a> for setup instructions.\n",
       "</p>\n",
       "<p>\n",
       "  If you're reading this message in another frontend (for example, a static\n",
       "  rendering on GitHub or <a href=\"https://nbviewer.jupyter.org/\">NBViewer</a>),\n",
       "  it may mean that your frontend doesn't currently support widgets.\n",
       "</p>\n"
      ],
      "text/plain": [
       "Renderer(camera=PerspectiveCamera(children=[DirectionalLight(intensity=0.6, position=[3.0, 5.0, 1.0], scale=[1.0, 1.0, 1.0], up=[0.0, 1.0, 0.0])], position=[2.5, 2.5, 2.5], scale=[1.0, 1.0, 1.0], up=[0.0, 0.0, 1.0]), controls=[OrbitControls(controlling=PerspectiveCamera(children=[DirectionalLight(intensity=0.6, position=[3.0, 5.0, 1.0], scale=[1.0, 1.0, 1.0], up=[0.0, 1.0, 0.0])], position=[2.5, 2.5, 2.5], scale=[1.0, 1.0, 1.0], up=[0.0, 0.0, 1.0]), target=[0.0, 0.0, 0.0])], effect=None, scene=Scene(children=[Mesh(geometry=ParametricGeometry(func='function f(origu,origv){\\n // scale u and v to the ranges I want: [0, 2*pi]\\n var u = 2*Math.PI*origu;\\n var v = 2*Math.PI*origv;\\n    \\n var x = Math.sin(u);\\n var y = Math.cos(v);\\n var z = Math.cos(u+v);\\n    \\n return new THREE.Vector3(x,y,z)\\n }\\n '), material=LambertMaterial(color='green', envMap=None, lightMap=None, map=None, side='FrontSide', specularMap=None), position=[0.0, 0.0, 0.0], scale=[1.0, 1.0, 1.0], up=[0.0, 1.0, 0.0]), Mesh(geometry=ParametricGeometry(func='function f(origu,origv){\\n // scale u and v to the ranges I want: [0, 2*pi]\\n var u = 2*Math.PI*origu;\\n var v = 2*Math.PI*origv;\\n    \\n var x = Math.sin(u);\\n var y = Math.cos(v);\\n var z = Math.cos(u+v);\\n    \\n return new THREE.Vector3(x,y,z)\\n }\\n '), material=LambertMaterial(color='yellow', envMap=None, lightMap=None, map=None, side='BackSide', specularMap=None), position=[0.0, 0.0, 0.0], scale=[1.0, 1.0, 1.0], up=[0.0, 1.0, 0.0]), AmbientLight(color='#777777', position=[0.0, 0.0, 0.0], scale=[1.0, 1.0, 1.0], up=[0.0, 1.0, 0.0])], position=[0.0, 0.0, 0.0], scale=[1.0, 1.0, 1.0], up=[0.0, 1.0, 0.0]))"
      ]
     },
     "metadata": {},
     "output_type": "display_data"
    }
   ],
   "source": [
    "js3d:.p.import`pythreejs\n",
    "jsfun:\"function f(origu,origv){\n",
    " // scale u and v to the ranges I want: [0, 2*pi]\n",
    " var u = 2*Math.PI*origu;\n",
    " var v = 2*Math.PI*origv;\n",
    "    \n",
    " var x = Math.sin(u);\n",
    " var y = Math.cos(v);\n",
    " var z = Math.cos(u+v);\n",
    "    \n",
    " return new THREE.Vector3(x,y,z)\n",
    " }\n",
    " \"\n",
    "pylist:.p.import[`builtins;`:list;>]\n",
    "geo:js3d[`:ParametricGeometry][`func pykw jsfun] \n",
    "surf: js3d[`:Mesh][`geometry pykw geo;`material pykw js3d[`:LambertMaterial;>][`color pykw `green;`side pykw`FrontSide]]\n",
    "surf2:js3d[`:Mesh][`geometry pykw geo;`material pykw js3d[`:LambertMaterial;>][`color pykw `yellow;`side pykw`BackSide]]\n",
    "scene:js3d[`:Scene][`children pykw (surf`.;surf2`.;js3d[`:AmbientLight][`color pykw \"#777777\"]`.)]\n",
    "\n",
    "p)c = PerspectiveCamera(position=[2.5, 2.5, 2.5], up=[0, 0, 1],\n",
    "                      children=[DirectionalLight(color='white',\n",
    "                                                 position=[3, 5, 1],\n",
    "                                                 intensity=0.6)])\n",
    "\n",
    "c:js3d[`:PerspectiveCamera][`position pykw pylist 3#2.5;`up pykw pylist 0 0 1;\n",
    "                             `children pykw pylist enlist js3d[`:DirectionalLight][\n",
    "                              `color pykw`white;`position pykw pylist 3 5 1;`intensity pykw .6]`.]\n",
    "\n",
    "display js3d[`:Renderer][pykwargs`camera`scene`controls!(c`.;scene`.;pylist enlist js3d[`:OrbitControls;>][`controlling pykw c])]\n",
    "\n"
   ]
  },
  {
   "cell_type": "markdown",
   "metadata": {},
   "source": [
    "### Maps"
   ]
  },
  {
   "cell_type": "markdown",
   "metadata": {},
   "source": [
    "To use this widget install the ipyleaflet package\n",
    "\n",
    "With conda:\n",
    "```bash\n",
    "conda install -c conda-forge ipyleaflet\n",
    "```\n",
    "With pip:\n",
    "```bash\n",
    "pip install ipyleaflet\n",
    "jupyter nbextension enable --py --sys-prefix ipyleaflet\n",
    "```"
   ]
  },
  {
   "cell_type": "code",
   "execution_count": 11,
   "metadata": {
    "scrolled": true
   },
   "outputs": [
    {
     "data": {
      "application/vnd.jupyter.widget-view+json": {
       "model_id": "21b573a316c1440eb7222c8f822534ee",
       "version_major": 2,
       "version_minor": 0
      },
      "text/html": [
       "<p>Failed to display Jupyter Widget of type <code>Map</code>.</p>\n",
       "<p>\n",
       "  If you're reading this message in the Jupyter Notebook or JupyterLab Notebook, it may mean\n",
       "  that the widgets JavaScript is still loading. If this message persists, it\n",
       "  likely means that the widgets JavaScript library is either not installed or\n",
       "  not enabled. See the <a href=\"https://ipywidgets.readthedocs.io/en/stable/user_install.html\">Jupyter\n",
       "  Widgets Documentation</a> for setup instructions.\n",
       "</p>\n",
       "<p>\n",
       "  If you're reading this message in another frontend (for example, a static\n",
       "  rendering on GitHub or <a href=\"https://nbviewer.jupyter.org/\">NBViewer</a>),\n",
       "  it may mean that your frontend doesn't currently support widgets.\n",
       "</p>\n"
      ],
      "text/plain": [
       "Map(basemap={'url': 'https://{s}.tile.openstreetmap.org/{z}/{x}/{y}.png', 'max_zoom': 19, 'attribution': 'Map data (c) <a href=\"https://openstreetmap.org\">OpenStreetMap</a> contributors'}, center=[51.510744, -0.0895571], default_tiles=TileLayer(max_zoom=19, min_zoom=1, options=['attribution', 'detect_retina', 'max_zoom', 'min_zoom', 'opacity', 'tile_size']), layers=(TileLayer(max_zoom=19, min_zoom=1, options=['attribution', 'detect_retina', 'max_zoom', 'min_zoom', 'opacity', 'tile_size']),), layout=Layout(align_self='stretch', height='400px'), options=['attribution_control', 'basemap', 'bounce_at_zoom_limits', 'box_zoom', 'center', 'close_popup_on_click', 'double_click_zoom', 'dragging', 'inertia', 'inertia_deceleration', 'inertia_max_speed', 'keyboard', 'keyboard_pan_offset', 'keyboard_zoom_offset', 'max_zoom', 'min_zoom', 'scroll_wheel_zoom', 'tap', 'tap_tolerance', 'touch_zoom', 'world_copy_jump', 'zoom', 'zoom_animation_threshold', 'zoom_control', 'zoom_start'], zoom=18)"
      ]
     },
     "metadata": {},
     "output_type": "display_data"
    }
   ],
   "source": [
    "p)from ipyleaflet import Map\n",
    "p)display(Map(center=[51.510744, -0.0895571], zoom=18))\n"
   ]
  },
  {
   "cell_type": "markdown",
   "metadata": {},
   "source": [
    "And in q"
   ]
  },
  {
   "cell_type": "code",
   "execution_count": 12,
   "metadata": {},
   "outputs": [
    {
     "data": {
      "application/vnd.jupyter.widget-view+json": {
       "model_id": "94927f0e37c546679e1cf7e7aecec08d",
       "version_major": 2,
       "version_minor": 0
      },
      "text/html": [
       "<p>Failed to display Jupyter Widget of type <code>Map</code>.</p>\n",
       "<p>\n",
       "  If you're reading this message in the Jupyter Notebook or JupyterLab Notebook, it may mean\n",
       "  that the widgets JavaScript is still loading. If this message persists, it\n",
       "  likely means that the widgets JavaScript library is either not installed or\n",
       "  not enabled. See the <a href=\"https://ipywidgets.readthedocs.io/en/stable/user_install.html\">Jupyter\n",
       "  Widgets Documentation</a> for setup instructions.\n",
       "</p>\n",
       "<p>\n",
       "  If you're reading this message in another frontend (for example, a static\n",
       "  rendering on GitHub or <a href=\"https://nbviewer.jupyter.org/\">NBViewer</a>),\n",
       "  it may mean that your frontend doesn't currently support widgets.\n",
       "</p>\n"
      ],
      "text/plain": [
       "Map(basemap={'url': 'https://{s}.tile.openstreetmap.org/{z}/{x}/{y}.png', 'max_zoom': 19, 'attribution': 'Map data (c) <a href=\"https://openstreetmap.org\">OpenStreetMap</a> contributors'}, center=[51.510744000000003, -0.089557100000000001], default_tiles=TileLayer(max_zoom=19, min_zoom=1, options=['attribution', 'detect_retina', 'max_zoom', 'min_zoom', 'opacity', 'tile_size']), layers=(TileLayer(max_zoom=19, min_zoom=1, options=['attribution', 'detect_retina', 'max_zoom', 'min_zoom', 'opacity', 'tile_size']),), layout=Layout(align_self='stretch', height='400px'), options=['attribution_control', 'basemap', 'bounce_at_zoom_limits', 'box_zoom', 'center', 'close_popup_on_click', 'double_click_zoom', 'dragging', 'inertia', 'inertia_deceleration', 'inertia_max_speed', 'keyboard', 'keyboard_pan_offset', 'keyboard_zoom_offset', 'max_zoom', 'min_zoom', 'scroll_wheel_zoom', 'tap', 'tap_tolerance', 'touch_zoom', 'world_copy_jump', 'zoom', 'zoom_animation_threshold', 'zoom_control', 'zoom_start'], zoom=18)"
      ]
     },
     "metadata": {},
     "output_type": "display_data"
    }
   ],
   "source": [
    "map:.p.import[`ipyleaflet;`:Map]\n",
    "\n",
    "display map[`center pykw pylist 51.510744 -0.0895571;`zoom pykw 18]"
   ]
  },
  {
   "cell_type": "code",
   "execution_count": null,
   "metadata": {
    "collapsed": true
   },
   "outputs": [],
   "source": []
  }
 ],
 "metadata": {
  "kernelspec": {
   "display_name": "Q 3.5",
   "language": "q",
   "name": "qpk"
  },
  "language_info": {
   "file_extension": ".q",
   "mimetype": "text/x-q",
   "name": "q",
   "version": "3.5.0"
  }
 },
 "nbformat": 4,
 "nbformat_minor": 2
}
